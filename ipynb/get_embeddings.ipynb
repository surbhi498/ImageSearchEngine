{
 "cells": [
  {
   "cell_type": "code",
   "execution_count": 2,
   "metadata": {},
   "outputs": [
    {
     "data": {
      "text/plain": [
       "['pixabay_cat_000455.jpg',\n",
       " 'pixabay_cat_001993.jpg',\n",
       " 'pixabay_cat_004633.jpg',\n",
       " 'pixabay_cat_002242.jpg',\n",
       " 'pixabay_cat_002524.jpg',\n",
       " 'pixabay_cat_004155.jpg',\n",
       " 'flickr_cat_000619.jpg',\n",
       " 'pixabay_cat_000333.jpg',\n",
       " 'pixabay_cat_000327.jpg',\n",
       " 'pixabay_cat_001039.jpg']"
      ]
     },
     "execution_count": 2,
     "metadata": {},
     "output_type": "execute_result"
    }
   ],
   "source": [
    "import os\n",
    "base_dir = \"/Users/surbhisharma/imageclassi/ipynb/afhq/train/cat\"\n",
    "all_image_urls = os.listdir(base_dir)\n",
    "all_image_urls[: 10]\n",
    "\n"
   ]
  },
  {
   "cell_type": "code",
   "execution_count": 3,
   "metadata": {},
   "outputs": [
    {
     "data": {
      "text/plain": [
       "['/Users/surbhisharma/imageclassi/ipynb/afhq/train/cat/pixabay_cat_000455.jpg',\n",
       " '/Users/surbhisharma/imageclassi/ipynb/afhq/train/cat/pixabay_cat_001993.jpg',\n",
       " '/Users/surbhisharma/imageclassi/ipynb/afhq/train/cat/pixabay_cat_004633.jpg',\n",
       " '/Users/surbhisharma/imageclassi/ipynb/afhq/train/cat/pixabay_cat_002242.jpg',\n",
       " '/Users/surbhisharma/imageclassi/ipynb/afhq/train/cat/pixabay_cat_002524.jpg',\n",
       " '/Users/surbhisharma/imageclassi/ipynb/afhq/train/cat/pixabay_cat_004155.jpg',\n",
       " '/Users/surbhisharma/imageclassi/ipynb/afhq/train/cat/flickr_cat_000619.jpg',\n",
       " '/Users/surbhisharma/imageclassi/ipynb/afhq/train/cat/pixabay_cat_000333.jpg',\n",
       " '/Users/surbhisharma/imageclassi/ipynb/afhq/train/cat/pixabay_cat_000327.jpg',\n",
       " '/Users/surbhisharma/imageclassi/ipynb/afhq/train/cat/pixabay_cat_001039.jpg']"
      ]
     },
     "execution_count": 3,
     "metadata": {},
     "output_type": "execute_result"
    }
   ],
   "source": [
    "sample_image_urls = all_image_urls[:50]\n",
    "sample_image_urls = list(map(lambda item: f\"{base_dir}/{item}\", sample_image_urls))\n",
    "sample_image_urls[: 10]"
   ]
  },
  {
   "cell_type": "code",
   "execution_count": 4,
   "metadata": {},
   "outputs": [
    {
     "data": {
      "text/html": [
       "<div>\n",
       "<style scoped>\n",
       "    .dataframe tbody tr th:only-of-type {\n",
       "        vertical-align: middle;\n",
       "    }\n",
       "\n",
       "    .dataframe tbody tr th {\n",
       "        vertical-align: top;\n",
       "    }\n",
       "\n",
       "    .dataframe thead th {\n",
       "        text-align: right;\n",
       "    }\n",
       "</style>\n",
       "<table border=\"1\" class=\"dataframe\">\n",
       "  <thead>\n",
       "    <tr style=\"text-align: right;\">\n",
       "      <th></th>\n",
       "      <th>image_url</th>\n",
       "      <th>type</th>\n",
       "    </tr>\n",
       "  </thead>\n",
       "  <tbody>\n",
       "    <tr>\n",
       "      <th>0</th>\n",
       "      <td>/Users/surbhisharma/imageclassi/ipynb/afhq/tra...</td>\n",
       "      <td>cat</td>\n",
       "    </tr>\n",
       "    <tr>\n",
       "      <th>1</th>\n",
       "      <td>/Users/surbhisharma/imageclassi/ipynb/afhq/tra...</td>\n",
       "      <td>cat</td>\n",
       "    </tr>\n",
       "    <tr>\n",
       "      <th>2</th>\n",
       "      <td>/Users/surbhisharma/imageclassi/ipynb/afhq/tra...</td>\n",
       "      <td>cat</td>\n",
       "    </tr>\n",
       "    <tr>\n",
       "      <th>3</th>\n",
       "      <td>/Users/surbhisharma/imageclassi/ipynb/afhq/tra...</td>\n",
       "      <td>cat</td>\n",
       "    </tr>\n",
       "    <tr>\n",
       "      <th>4</th>\n",
       "      <td>/Users/surbhisharma/imageclassi/ipynb/afhq/tra...</td>\n",
       "      <td>cat</td>\n",
       "    </tr>\n",
       "    <tr>\n",
       "      <th>5</th>\n",
       "      <td>/Users/surbhisharma/imageclassi/ipynb/afhq/tra...</td>\n",
       "      <td>cat</td>\n",
       "    </tr>\n",
       "    <tr>\n",
       "      <th>6</th>\n",
       "      <td>/Users/surbhisharma/imageclassi/ipynb/afhq/tra...</td>\n",
       "      <td>cat</td>\n",
       "    </tr>\n",
       "    <tr>\n",
       "      <th>7</th>\n",
       "      <td>/Users/surbhisharma/imageclassi/ipynb/afhq/tra...</td>\n",
       "      <td>cat</td>\n",
       "    </tr>\n",
       "    <tr>\n",
       "      <th>8</th>\n",
       "      <td>/Users/surbhisharma/imageclassi/ipynb/afhq/tra...</td>\n",
       "      <td>cat</td>\n",
       "    </tr>\n",
       "    <tr>\n",
       "      <th>9</th>\n",
       "      <td>/Users/surbhisharma/imageclassi/ipynb/afhq/tra...</td>\n",
       "      <td>cat</td>\n",
       "    </tr>\n",
       "    <tr>\n",
       "      <th>10</th>\n",
       "      <td>/Users/surbhisharma/imageclassi/ipynb/afhq/tra...</td>\n",
       "      <td>cat</td>\n",
       "    </tr>\n",
       "    <tr>\n",
       "      <th>11</th>\n",
       "      <td>/Users/surbhisharma/imageclassi/ipynb/afhq/tra...</td>\n",
       "      <td>cat</td>\n",
       "    </tr>\n",
       "    <tr>\n",
       "      <th>12</th>\n",
       "      <td>/Users/surbhisharma/imageclassi/ipynb/afhq/tra...</td>\n",
       "      <td>cat</td>\n",
       "    </tr>\n",
       "    <tr>\n",
       "      <th>13</th>\n",
       "      <td>/Users/surbhisharma/imageclassi/ipynb/afhq/tra...</td>\n",
       "      <td>cat</td>\n",
       "    </tr>\n",
       "    <tr>\n",
       "      <th>14</th>\n",
       "      <td>/Users/surbhisharma/imageclassi/ipynb/afhq/tra...</td>\n",
       "      <td>cat</td>\n",
       "    </tr>\n",
       "    <tr>\n",
       "      <th>15</th>\n",
       "      <td>/Users/surbhisharma/imageclassi/ipynb/afhq/tra...</td>\n",
       "      <td>cat</td>\n",
       "    </tr>\n",
       "    <tr>\n",
       "      <th>16</th>\n",
       "      <td>/Users/surbhisharma/imageclassi/ipynb/afhq/tra...</td>\n",
       "      <td>cat</td>\n",
       "    </tr>\n",
       "    <tr>\n",
       "      <th>17</th>\n",
       "      <td>/Users/surbhisharma/imageclassi/ipynb/afhq/tra...</td>\n",
       "      <td>cat</td>\n",
       "    </tr>\n",
       "    <tr>\n",
       "      <th>18</th>\n",
       "      <td>/Users/surbhisharma/imageclassi/ipynb/afhq/tra...</td>\n",
       "      <td>cat</td>\n",
       "    </tr>\n",
       "    <tr>\n",
       "      <th>19</th>\n",
       "      <td>/Users/surbhisharma/imageclassi/ipynb/afhq/tra...</td>\n",
       "      <td>cat</td>\n",
       "    </tr>\n",
       "    <tr>\n",
       "      <th>20</th>\n",
       "      <td>/Users/surbhisharma/imageclassi/ipynb/afhq/tra...</td>\n",
       "      <td>cat</td>\n",
       "    </tr>\n",
       "    <tr>\n",
       "      <th>21</th>\n",
       "      <td>/Users/surbhisharma/imageclassi/ipynb/afhq/tra...</td>\n",
       "      <td>cat</td>\n",
       "    </tr>\n",
       "    <tr>\n",
       "      <th>22</th>\n",
       "      <td>/Users/surbhisharma/imageclassi/ipynb/afhq/tra...</td>\n",
       "      <td>cat</td>\n",
       "    </tr>\n",
       "    <tr>\n",
       "      <th>23</th>\n",
       "      <td>/Users/surbhisharma/imageclassi/ipynb/afhq/tra...</td>\n",
       "      <td>cat</td>\n",
       "    </tr>\n",
       "    <tr>\n",
       "      <th>24</th>\n",
       "      <td>/Users/surbhisharma/imageclassi/ipynb/afhq/tra...</td>\n",
       "      <td>cat</td>\n",
       "    </tr>\n",
       "    <tr>\n",
       "      <th>25</th>\n",
       "      <td>/Users/surbhisharma/imageclassi/ipynb/afhq/tra...</td>\n",
       "      <td>cat</td>\n",
       "    </tr>\n",
       "    <tr>\n",
       "      <th>26</th>\n",
       "      <td>/Users/surbhisharma/imageclassi/ipynb/afhq/tra...</td>\n",
       "      <td>cat</td>\n",
       "    </tr>\n",
       "    <tr>\n",
       "      <th>27</th>\n",
       "      <td>/Users/surbhisharma/imageclassi/ipynb/afhq/tra...</td>\n",
       "      <td>cat</td>\n",
       "    </tr>\n",
       "    <tr>\n",
       "      <th>28</th>\n",
       "      <td>/Users/surbhisharma/imageclassi/ipynb/afhq/tra...</td>\n",
       "      <td>cat</td>\n",
       "    </tr>\n",
       "    <tr>\n",
       "      <th>29</th>\n",
       "      <td>/Users/surbhisharma/imageclassi/ipynb/afhq/tra...</td>\n",
       "      <td>cat</td>\n",
       "    </tr>\n",
       "    <tr>\n",
       "      <th>30</th>\n",
       "      <td>/Users/surbhisharma/imageclassi/ipynb/afhq/tra...</td>\n",
       "      <td>cat</td>\n",
       "    </tr>\n",
       "    <tr>\n",
       "      <th>31</th>\n",
       "      <td>/Users/surbhisharma/imageclassi/ipynb/afhq/tra...</td>\n",
       "      <td>cat</td>\n",
       "    </tr>\n",
       "    <tr>\n",
       "      <th>32</th>\n",
       "      <td>/Users/surbhisharma/imageclassi/ipynb/afhq/tra...</td>\n",
       "      <td>cat</td>\n",
       "    </tr>\n",
       "    <tr>\n",
       "      <th>33</th>\n",
       "      <td>/Users/surbhisharma/imageclassi/ipynb/afhq/tra...</td>\n",
       "      <td>cat</td>\n",
       "    </tr>\n",
       "    <tr>\n",
       "      <th>34</th>\n",
       "      <td>/Users/surbhisharma/imageclassi/ipynb/afhq/tra...</td>\n",
       "      <td>cat</td>\n",
       "    </tr>\n",
       "    <tr>\n",
       "      <th>35</th>\n",
       "      <td>/Users/surbhisharma/imageclassi/ipynb/afhq/tra...</td>\n",
       "      <td>cat</td>\n",
       "    </tr>\n",
       "    <tr>\n",
       "      <th>36</th>\n",
       "      <td>/Users/surbhisharma/imageclassi/ipynb/afhq/tra...</td>\n",
       "      <td>cat</td>\n",
       "    </tr>\n",
       "    <tr>\n",
       "      <th>37</th>\n",
       "      <td>/Users/surbhisharma/imageclassi/ipynb/afhq/tra...</td>\n",
       "      <td>cat</td>\n",
       "    </tr>\n",
       "    <tr>\n",
       "      <th>38</th>\n",
       "      <td>/Users/surbhisharma/imageclassi/ipynb/afhq/tra...</td>\n",
       "      <td>cat</td>\n",
       "    </tr>\n",
       "    <tr>\n",
       "      <th>39</th>\n",
       "      <td>/Users/surbhisharma/imageclassi/ipynb/afhq/tra...</td>\n",
       "      <td>cat</td>\n",
       "    </tr>\n",
       "    <tr>\n",
       "      <th>40</th>\n",
       "      <td>/Users/surbhisharma/imageclassi/ipynb/afhq/tra...</td>\n",
       "      <td>cat</td>\n",
       "    </tr>\n",
       "    <tr>\n",
       "      <th>41</th>\n",
       "      <td>/Users/surbhisharma/imageclassi/ipynb/afhq/tra...</td>\n",
       "      <td>cat</td>\n",
       "    </tr>\n",
       "    <tr>\n",
       "      <th>42</th>\n",
       "      <td>/Users/surbhisharma/imageclassi/ipynb/afhq/tra...</td>\n",
       "      <td>cat</td>\n",
       "    </tr>\n",
       "    <tr>\n",
       "      <th>43</th>\n",
       "      <td>/Users/surbhisharma/imageclassi/ipynb/afhq/tra...</td>\n",
       "      <td>cat</td>\n",
       "    </tr>\n",
       "    <tr>\n",
       "      <th>44</th>\n",
       "      <td>/Users/surbhisharma/imageclassi/ipynb/afhq/tra...</td>\n",
       "      <td>cat</td>\n",
       "    </tr>\n",
       "    <tr>\n",
       "      <th>45</th>\n",
       "      <td>/Users/surbhisharma/imageclassi/ipynb/afhq/tra...</td>\n",
       "      <td>cat</td>\n",
       "    </tr>\n",
       "    <tr>\n",
       "      <th>46</th>\n",
       "      <td>/Users/surbhisharma/imageclassi/ipynb/afhq/tra...</td>\n",
       "      <td>cat</td>\n",
       "    </tr>\n",
       "    <tr>\n",
       "      <th>47</th>\n",
       "      <td>/Users/surbhisharma/imageclassi/ipynb/afhq/tra...</td>\n",
       "      <td>cat</td>\n",
       "    </tr>\n",
       "    <tr>\n",
       "      <th>48</th>\n",
       "      <td>/Users/surbhisharma/imageclassi/ipynb/afhq/tra...</td>\n",
       "      <td>cat</td>\n",
       "    </tr>\n",
       "    <tr>\n",
       "      <th>49</th>\n",
       "      <td>/Users/surbhisharma/imageclassi/ipynb/afhq/tra...</td>\n",
       "      <td>cat</td>\n",
       "    </tr>\n",
       "  </tbody>\n",
       "</table>\n",
       "</div>"
      ],
      "text/plain": [
       "                                            image_url type\n",
       "0   /Users/surbhisharma/imageclassi/ipynb/afhq/tra...  cat\n",
       "1   /Users/surbhisharma/imageclassi/ipynb/afhq/tra...  cat\n",
       "2   /Users/surbhisharma/imageclassi/ipynb/afhq/tra...  cat\n",
       "3   /Users/surbhisharma/imageclassi/ipynb/afhq/tra...  cat\n",
       "4   /Users/surbhisharma/imageclassi/ipynb/afhq/tra...  cat\n",
       "5   /Users/surbhisharma/imageclassi/ipynb/afhq/tra...  cat\n",
       "6   /Users/surbhisharma/imageclassi/ipynb/afhq/tra...  cat\n",
       "7   /Users/surbhisharma/imageclassi/ipynb/afhq/tra...  cat\n",
       "8   /Users/surbhisharma/imageclassi/ipynb/afhq/tra...  cat\n",
       "9   /Users/surbhisharma/imageclassi/ipynb/afhq/tra...  cat\n",
       "10  /Users/surbhisharma/imageclassi/ipynb/afhq/tra...  cat\n",
       "11  /Users/surbhisharma/imageclassi/ipynb/afhq/tra...  cat\n",
       "12  /Users/surbhisharma/imageclassi/ipynb/afhq/tra...  cat\n",
       "13  /Users/surbhisharma/imageclassi/ipynb/afhq/tra...  cat\n",
       "14  /Users/surbhisharma/imageclassi/ipynb/afhq/tra...  cat\n",
       "15  /Users/surbhisharma/imageclassi/ipynb/afhq/tra...  cat\n",
       "16  /Users/surbhisharma/imageclassi/ipynb/afhq/tra...  cat\n",
       "17  /Users/surbhisharma/imageclassi/ipynb/afhq/tra...  cat\n",
       "18  /Users/surbhisharma/imageclassi/ipynb/afhq/tra...  cat\n",
       "19  /Users/surbhisharma/imageclassi/ipynb/afhq/tra...  cat\n",
       "20  /Users/surbhisharma/imageclassi/ipynb/afhq/tra...  cat\n",
       "21  /Users/surbhisharma/imageclassi/ipynb/afhq/tra...  cat\n",
       "22  /Users/surbhisharma/imageclassi/ipynb/afhq/tra...  cat\n",
       "23  /Users/surbhisharma/imageclassi/ipynb/afhq/tra...  cat\n",
       "24  /Users/surbhisharma/imageclassi/ipynb/afhq/tra...  cat\n",
       "25  /Users/surbhisharma/imageclassi/ipynb/afhq/tra...  cat\n",
       "26  /Users/surbhisharma/imageclassi/ipynb/afhq/tra...  cat\n",
       "27  /Users/surbhisharma/imageclassi/ipynb/afhq/tra...  cat\n",
       "28  /Users/surbhisharma/imageclassi/ipynb/afhq/tra...  cat\n",
       "29  /Users/surbhisharma/imageclassi/ipynb/afhq/tra...  cat\n",
       "30  /Users/surbhisharma/imageclassi/ipynb/afhq/tra...  cat\n",
       "31  /Users/surbhisharma/imageclassi/ipynb/afhq/tra...  cat\n",
       "32  /Users/surbhisharma/imageclassi/ipynb/afhq/tra...  cat\n",
       "33  /Users/surbhisharma/imageclassi/ipynb/afhq/tra...  cat\n",
       "34  /Users/surbhisharma/imageclassi/ipynb/afhq/tra...  cat\n",
       "35  /Users/surbhisharma/imageclassi/ipynb/afhq/tra...  cat\n",
       "36  /Users/surbhisharma/imageclassi/ipynb/afhq/tra...  cat\n",
       "37  /Users/surbhisharma/imageclassi/ipynb/afhq/tra...  cat\n",
       "38  /Users/surbhisharma/imageclassi/ipynb/afhq/tra...  cat\n",
       "39  /Users/surbhisharma/imageclassi/ipynb/afhq/tra...  cat\n",
       "40  /Users/surbhisharma/imageclassi/ipynb/afhq/tra...  cat\n",
       "41  /Users/surbhisharma/imageclassi/ipynb/afhq/tra...  cat\n",
       "42  /Users/surbhisharma/imageclassi/ipynb/afhq/tra...  cat\n",
       "43  /Users/surbhisharma/imageclassi/ipynb/afhq/tra...  cat\n",
       "44  /Users/surbhisharma/imageclassi/ipynb/afhq/tra...  cat\n",
       "45  /Users/surbhisharma/imageclassi/ipynb/afhq/tra...  cat\n",
       "46  /Users/surbhisharma/imageclassi/ipynb/afhq/tra...  cat\n",
       "47  /Users/surbhisharma/imageclassi/ipynb/afhq/tra...  cat\n",
       "48  /Users/surbhisharma/imageclassi/ipynb/afhq/tra...  cat\n",
       "49  /Users/surbhisharma/imageclassi/ipynb/afhq/tra...  cat"
      ]
     },
     "execution_count": 4,
     "metadata": {},
     "output_type": "execute_result"
    }
   ],
   "source": [
    "#create dataframe to create image metadata\n",
    "from pandas import DataFrame\n",
    "from PIL import Image\n",
    "\n",
    "payloads = DataFrame(sample_image_urls, columns=[\"image_url\"])\n",
    "payloads[\"type\"]=\"cat\"\n",
    "payloads\n"
   ]
  },
  {
   "cell_type": "code",
   "execution_count": 5,
   "metadata": {},
   "outputs": [
    {
     "data": {
      "text/plain": [
       "[<PIL.JpegImagePlugin.JpegImageFile image mode=RGB size=512x512>,\n",
       " <PIL.JpegImagePlugin.JpegImageFile image mode=RGB size=512x512>,\n",
       " <PIL.JpegImagePlugin.JpegImageFile image mode=RGB size=512x512>,\n",
       " <PIL.JpegImagePlugin.JpegImageFile image mode=RGB size=512x512>,\n",
       " <PIL.JpegImagePlugin.JpegImageFile image mode=RGB size=512x512>,\n",
       " <PIL.JpegImagePlugin.JpegImageFile image mode=RGB size=512x512>,\n",
       " <PIL.JpegImagePlugin.JpegImageFile image mode=RGB size=512x512>,\n",
       " <PIL.JpegImagePlugin.JpegImageFile image mode=RGB size=512x512>,\n",
       " <PIL.JpegImagePlugin.JpegImageFile image mode=RGB size=512x512>,\n",
       " <PIL.JpegImagePlugin.JpegImageFile image mode=RGB size=512x512>,\n",
       " <PIL.JpegImagePlugin.JpegImageFile image mode=RGB size=512x512>,\n",
       " <PIL.JpegImagePlugin.JpegImageFile image mode=RGB size=512x512>,\n",
       " <PIL.JpegImagePlugin.JpegImageFile image mode=RGB size=512x512>,\n",
       " <PIL.JpegImagePlugin.JpegImageFile image mode=RGB size=512x512>,\n",
       " <PIL.JpegImagePlugin.JpegImageFile image mode=RGB size=512x512>,\n",
       " <PIL.JpegImagePlugin.JpegImageFile image mode=RGB size=512x512>,\n",
       " <PIL.JpegImagePlugin.JpegImageFile image mode=RGB size=512x512>,\n",
       " <PIL.JpegImagePlugin.JpegImageFile image mode=RGB size=512x512>,\n",
       " <PIL.JpegImagePlugin.JpegImageFile image mode=RGB size=512x512>,\n",
       " <PIL.JpegImagePlugin.JpegImageFile image mode=RGB size=512x512>,\n",
       " <PIL.JpegImagePlugin.JpegImageFile image mode=RGB size=512x512>,\n",
       " <PIL.JpegImagePlugin.JpegImageFile image mode=RGB size=512x512>,\n",
       " <PIL.JpegImagePlugin.JpegImageFile image mode=RGB size=512x512>,\n",
       " <PIL.JpegImagePlugin.JpegImageFile image mode=RGB size=512x512>,\n",
       " <PIL.JpegImagePlugin.JpegImageFile image mode=RGB size=512x512>,\n",
       " <PIL.JpegImagePlugin.JpegImageFile image mode=RGB size=512x512>,\n",
       " <PIL.JpegImagePlugin.JpegImageFile image mode=RGB size=512x512>,\n",
       " <PIL.JpegImagePlugin.JpegImageFile image mode=RGB size=512x512>,\n",
       " <PIL.JpegImagePlugin.JpegImageFile image mode=RGB size=512x512>,\n",
       " <PIL.JpegImagePlugin.JpegImageFile image mode=RGB size=512x512>,\n",
       " <PIL.JpegImagePlugin.JpegImageFile image mode=RGB size=512x512>,\n",
       " <PIL.JpegImagePlugin.JpegImageFile image mode=RGB size=512x512>,\n",
       " <PIL.JpegImagePlugin.JpegImageFile image mode=RGB size=512x512>,\n",
       " <PIL.JpegImagePlugin.JpegImageFile image mode=RGB size=512x512>,\n",
       " <PIL.JpegImagePlugin.JpegImageFile image mode=RGB size=512x512>,\n",
       " <PIL.JpegImagePlugin.JpegImageFile image mode=RGB size=512x512>,\n",
       " <PIL.JpegImagePlugin.JpegImageFile image mode=RGB size=512x512>,\n",
       " <PIL.JpegImagePlugin.JpegImageFile image mode=RGB size=512x512>,\n",
       " <PIL.JpegImagePlugin.JpegImageFile image mode=RGB size=512x512>,\n",
       " <PIL.JpegImagePlugin.JpegImageFile image mode=RGB size=512x512>,\n",
       " <PIL.JpegImagePlugin.JpegImageFile image mode=RGB size=512x512>,\n",
       " <PIL.JpegImagePlugin.JpegImageFile image mode=RGB size=512x512>,\n",
       " <PIL.JpegImagePlugin.JpegImageFile image mode=RGB size=512x512>,\n",
       " <PIL.JpegImagePlugin.JpegImageFile image mode=RGB size=512x512>,\n",
       " <PIL.JpegImagePlugin.JpegImageFile image mode=RGB size=512x512>,\n",
       " <PIL.JpegImagePlugin.JpegImageFile image mode=RGB size=512x512>,\n",
       " <PIL.JpegImagePlugin.JpegImageFile image mode=RGB size=512x512>,\n",
       " <PIL.JpegImagePlugin.JpegImageFile image mode=RGB size=512x512>,\n",
       " <PIL.JpegImagePlugin.JpegImageFile image mode=RGB size=512x512>,\n",
       " <PIL.JpegImagePlugin.JpegImageFile image mode=RGB size=512x512>]"
      ]
     },
     "execution_count": 5,
     "metadata": {},
     "output_type": "execute_result"
    }
   ],
   "source": [
    "# create PIL image\n",
    "images = list(map(lambda item: Image.open(item), sample_image_urls))\n",
    "images"
   ]
  },
  {
   "cell_type": "code",
   "execution_count": 6,
   "metadata": {},
   "outputs": [],
   "source": [
    "from io import BytesIO\n",
    "import math\n",
    "import base64\n",
    "target_width = 256\n",
    "def resize_image(image_url):\n",
    "    pil_image = Image.open(image_url)\n",
    "    image_aspect_ratio = float(pil_image.size[1]) / float(pil_image.size[0])\n",
    "    resized_pil_image = pil_image.resize(\n",
    "        [target_width, math.floor(target_width * image_aspect_ratio)]\n",
    "    )\n",
    "    return resized_pil_image\n",
    "def convert_image_to_base64(image):\n",
    "    buffered = BytesIO()\n",
    "    image.save(buffered, format=\"JPEG\")\n",
    "    return base64.b64encode(buffered.getvalue()).decode(\"utf-8\")    \n",
    "\n",
    "resized_images = list(map(lambda item: resize_image(item), sample_image_urls))\n",
    "base64_strings = list(map(lambda item: convert_image_to_base64(item), resized_images))\n",
    "payloads[\"base64\"] = base64_strings\n"
   ]
  },
  {
   "cell_type": "code",
   "execution_count": 7,
   "metadata": {},
   "outputs": [
    {
     "name": "stdout",
     "output_type": "stream",
     "text": [
      "Requirement already satisfied: transformers in /Users/surbhisharma/anaconda3/lib/python3.10/site-packages (4.42.3)\n",
      "Requirement already satisfied: filelock in /Users/surbhisharma/anaconda3/lib/python3.10/site-packages (from transformers) (3.9.0)\n",
      "Requirement already satisfied: safetensors>=0.4.1 in /Users/surbhisharma/anaconda3/lib/python3.10/site-packages (from transformers) (0.4.3)\n",
      "Requirement already satisfied: packaging>=20.0 in /Users/surbhisharma/anaconda3/lib/python3.10/site-packages (from transformers) (23.0)\n",
      "Requirement already satisfied: requests in /Users/surbhisharma/anaconda3/lib/python3.10/site-packages (from transformers) (2.31.0)\n",
      "Requirement already satisfied: tqdm>=4.27 in /Users/surbhisharma/anaconda3/lib/python3.10/site-packages (from transformers) (4.65.0)\n",
      "Requirement already satisfied: regex!=2019.12.17 in /Users/surbhisharma/anaconda3/lib/python3.10/site-packages (from transformers) (2024.5.15)\n",
      "Requirement already satisfied: numpy<2.0,>=1.17 in /Users/surbhisharma/anaconda3/lib/python3.10/site-packages (from transformers) (1.25.2)\n",
      "Requirement already satisfied: tokenizers<0.20,>=0.19 in /Users/surbhisharma/anaconda3/lib/python3.10/site-packages (from transformers) (0.19.1)\n",
      "Requirement already satisfied: pyyaml>=5.1 in /Users/surbhisharma/anaconda3/lib/python3.10/site-packages (from transformers) (6.0)\n",
      "Requirement already satisfied: huggingface-hub<1.0,>=0.23.2 in /Users/surbhisharma/anaconda3/lib/python3.10/site-packages (from transformers) (0.23.4)\n",
      "Requirement already satisfied: fsspec>=2023.5.0 in /Users/surbhisharma/anaconda3/lib/python3.10/site-packages (from huggingface-hub<1.0,>=0.23.2->transformers) (2024.6.1)\n",
      "Requirement already satisfied: typing-extensions>=3.7.4.3 in /Users/surbhisharma/anaconda3/lib/python3.10/site-packages (from huggingface-hub<1.0,>=0.23.2->transformers) (4.12.2)\n",
      "Requirement already satisfied: urllib3<3,>=1.21.1 in /Users/surbhisharma/anaconda3/lib/python3.10/site-packages (from requests->transformers) (1.26.16)\n",
      "Requirement already satisfied: certifi>=2017.4.17 in /Users/surbhisharma/anaconda3/lib/python3.10/site-packages (from requests->transformers) (2024.6.2)\n",
      "Requirement already satisfied: idna<4,>=2.5 in /Users/surbhisharma/anaconda3/lib/python3.10/site-packages (from requests->transformers) (3.4)\n",
      "Requirement already satisfied: charset-normalizer<4,>=2 in /Users/surbhisharma/anaconda3/lib/python3.10/site-packages (from requests->transformers) (2.0.4)\n",
      "Note: you may need to restart the kernel to use updated packages.\n"
     ]
    }
   ],
   "source": [
    "%pip install transformers"
   ]
  },
  {
   "cell_type": "code",
   "execution_count": 8,
   "metadata": {},
   "outputs": [
    {
     "name": "stdout",
     "output_type": "stream",
     "text": [
      "Requirement already satisfied: torch in /Users/surbhisharma/anaconda3/lib/python3.10/site-packages (2.2.2)\n",
      "Requirement already satisfied: filelock in /Users/surbhisharma/anaconda3/lib/python3.10/site-packages (from torch) (3.9.0)\n",
      "Requirement already satisfied: jinja2 in /Users/surbhisharma/anaconda3/lib/python3.10/site-packages (from torch) (3.1.2)\n",
      "Requirement already satisfied: fsspec in /Users/surbhisharma/anaconda3/lib/python3.10/site-packages (from torch) (2024.6.1)\n",
      "Requirement already satisfied: typing-extensions>=4.8.0 in /Users/surbhisharma/anaconda3/lib/python3.10/site-packages (from torch) (4.12.2)\n",
      "Requirement already satisfied: networkx in /Users/surbhisharma/anaconda3/lib/python3.10/site-packages (from torch) (3.3)\n",
      "Requirement already satisfied: sympy in /Users/surbhisharma/anaconda3/lib/python3.10/site-packages (from torch) (1.12.1)\n",
      "Requirement already satisfied: MarkupSafe>=2.0 in /Users/surbhisharma/anaconda3/lib/python3.10/site-packages (from jinja2->torch) (2.1.1)\n",
      "Requirement already satisfied: mpmath<1.4.0,>=1.1.0 in /Users/surbhisharma/anaconda3/lib/python3.10/site-packages (from sympy->torch) (1.3.0)\n",
      "Note: you may need to restart the kernel to use updated packages.\n"
     ]
    }
   ],
   "source": [
    "%pip install torch"
   ]
  },
  {
   "cell_type": "code",
   "execution_count": 9,
   "metadata": {},
   "outputs": [
    {
     "data": {
      "text/plain": [
       "tensor([[ -9.8764, -11.1688,  -9.8216,  ...,  -9.6449,  -9.5717,  -8.8342],\n",
       "        [ -8.1653,  -9.8245, -10.3752,  ...,  -9.4924,  -7.2754,  -8.2704],\n",
       "        [ -8.8265, -10.3300, -10.1870,  ...,  -8.5700,  -8.5690,  -9.4713],\n",
       "        ...,\n",
       "        [ -9.6205,  -9.9938, -12.0584,  ..., -10.4141,  -6.2198,  -6.9658],\n",
       "        [ -7.9895,  -9.5069,  -9.4123,  ...,  -9.1631,  -6.8925,  -8.1430],\n",
       "        [ -8.9029, -10.1979, -11.6736,  ...,  -9.7812,  -7.1584,  -8.7384]],\n",
       "       grad_fn=<AddmmBackward0>)"
      ]
     },
     "execution_count": 9,
     "metadata": {},
     "output_type": "execute_result"
    }
   ],
   "source": [
    "import torch\n",
    "from transformers import AutoImageProcessor, ResNetForImageClassification\n",
    "processor = AutoImageProcessor.from_pretrained(\"microsoft/resnet-50\")\n",
    "model = ResNetForImageClassification.from_pretrained(\"microsoft/resnet-50\")\n",
    "inputs = processor(images, return_tensors=\"pt\")\n",
    "outputs = model(**inputs)\n",
    "embeddings = outputs.logits\n",
    "embeddings"
   ]
  },
  {
   "cell_type": "code",
   "execution_count": 10,
   "metadata": {},
   "outputs": [
    {
     "data": {
      "text/plain": [
       "1000"
      ]
     },
     "execution_count": 10,
     "metadata": {},
     "output_type": "execute_result"
    }
   ],
   "source": [
    "# store length of embeddings\n",
    "embeddings_length = len(embeddings[0])\n",
    "embeddings_length"
   ]
  },
  {
   "cell_type": "code",
   "execution_count": 13,
   "metadata": {},
   "outputs": [
    {
     "name": "stdout",
     "output_type": "stream",
     "text": [
      "Collecting python-dotenv\n",
      "  Downloading python_dotenv-1.0.1-py3-none-any.whl (19 kB)\n",
      "Installing collected packages: python-dotenv\n",
      "Successfully installed python-dotenv-1.0.1\n",
      "Note: you may need to restart the kernel to use updated packages.\n"
     ]
    }
   ],
   "source": [
    "%pip install python-dotenv\n"
   ]
  },
  {
   "cell_type": "code",
   "execution_count": 14,
   "metadata": {},
   "outputs": [
    {
     "data": {
      "text/plain": [
       "True"
      ]
     },
     "execution_count": 14,
     "metadata": {},
     "output_type": "execute_result"
    }
   ],
   "source": [
    "# load dotenv to load environment variables\n",
    "from  dotenv import load_dotenv\n",
    "load_dotenv()"
   ]
  },
  {
   "cell_type": "code",
   "execution_count": 16,
   "metadata": {},
   "outputs": [
    {
     "name": "stdout",
     "output_type": "stream",
     "text": [
      "Collecting qdrant-client\n",
      "  Downloading qdrant_client-1.10.0-py3-none-any.whl (254 kB)\n",
      "\u001b[2K     \u001b[90m━━━━━━━━━━━━━━━━━━━━━━━━━━━━━━━━━━━━━━━\u001b[0m \u001b[32m254.1/254.1 kB\u001b[0m \u001b[31m3.4 MB/s\u001b[0m eta \u001b[36m0:00:00\u001b[0ma \u001b[36m0:00:01\u001b[0m\n",
      "\u001b[?25hRequirement already satisfied: urllib3<3,>=1.26.14 in /Users/surbhisharma/anaconda3/lib/python3.10/site-packages (from qdrant-client) (1.26.16)\n",
      "Collecting pydantic>=1.10.8\n",
      "  Downloading pydantic-2.8.2-py3-none-any.whl (423 kB)\n",
      "\u001b[2K     \u001b[90m━━━━━━━━━━━━━━━━━━━━━━━━━━━━━━━━━━━━━━\u001b[0m \u001b[32m423.9/423.9 kB\u001b[0m \u001b[31m10.5 MB/s\u001b[0m eta \u001b[36m0:00:00\u001b[0m00:01\u001b[0m\n",
      "\u001b[?25hCollecting portalocker<3.0.0,>=2.7.0\n",
      "  Downloading portalocker-2.10.0-py3-none-any.whl (18 kB)\n",
      "Collecting grpcio-tools>=1.41.0\n",
      "  Downloading grpcio_tools-1.64.1.tar.gz (5.0 MB)\n",
      "\u001b[2K     \u001b[90m━━━━━━━━━━━━━━━━━━━━━━━━━━━━━━━━━━━━━━━━\u001b[0m \u001b[32m5.0/5.0 MB\u001b[0m \u001b[31m12.4 MB/s\u001b[0m eta \u001b[36m0:00:00\u001b[0ma \u001b[36m0:00:01\u001b[0m\n",
      "\u001b[?25h  Preparing metadata (setup.py) ... \u001b[?25ldone\n",
      "\u001b[?25hRequirement already satisfied: numpy>=1.21 in /Users/surbhisharma/anaconda3/lib/python3.10/site-packages (from qdrant-client) (1.25.2)\n",
      "Collecting httpx[http2]>=0.20.0\n",
      "  Downloading httpx-0.27.0-py3-none-any.whl (75 kB)\n",
      "\u001b[2K     \u001b[90m━━━━━━━━━━━━━━━━━━━━━━━━━━━━━━━━━━━━━━━━\u001b[0m \u001b[32m75.6/75.6 kB\u001b[0m \u001b[31m4.6 MB/s\u001b[0m eta \u001b[36m0:00:00\u001b[0m\n",
      "\u001b[?25hCollecting grpcio>=1.41.0\n",
      "  Downloading grpcio-1.64.1.tar.gz (12.2 MB)\n",
      "\u001b[2K     \u001b[90m━━━━━━━━━━━━━━━━━━━━━━━━━━━━━━━━━━━━━━━━\u001b[0m \u001b[32m12.2/12.2 MB\u001b[0m \u001b[31m11.7 MB/s\u001b[0m eta \u001b[36m0:00:00\u001b[0m00:01\u001b[0m00:01\u001b[0m\n",
      "\u001b[?25h  Preparing metadata (setup.py) ... \u001b[?25ldone\n",
      "\u001b[?25hCollecting protobuf<6.0dev,>=5.26.1\n",
      "  Downloading protobuf-5.27.2-cp38-abi3-macosx_10_9_universal2.whl (412 kB)\n",
      "\u001b[2K     \u001b[90m━━━━━━━━━━━━━━━━━━━━━━━━━━━━━━━━━━━━━━━\u001b[0m \u001b[32m412.2/412.2 kB\u001b[0m \u001b[31m9.5 MB/s\u001b[0m eta \u001b[36m0:00:00\u001b[0m00:01\u001b[0m\n",
      "\u001b[?25hRequirement already satisfied: setuptools in /Users/surbhisharma/anaconda3/lib/python3.10/site-packages (from grpcio-tools>=1.41.0->qdrant-client) (65.6.3)\n",
      "Requirement already satisfied: certifi in /Users/surbhisharma/anaconda3/lib/python3.10/site-packages (from httpx[http2]>=0.20.0->qdrant-client) (2024.6.2)\n",
      "Collecting httpcore==1.*\n",
      "  Downloading httpcore-1.0.5-py3-none-any.whl (77 kB)\n",
      "\u001b[2K     \u001b[90m━━━━━━━━━━━━━━━━━━━━━━━━━━━━━━━━━━━━━━━━\u001b[0m \u001b[32m77.9/77.9 kB\u001b[0m \u001b[31m6.7 MB/s\u001b[0m eta \u001b[36m0:00:00\u001b[0m\n",
      "\u001b[?25hRequirement already satisfied: idna in /Users/surbhisharma/anaconda3/lib/python3.10/site-packages (from httpx[http2]>=0.20.0->qdrant-client) (3.4)\n",
      "Requirement already satisfied: sniffio in /Users/surbhisharma/anaconda3/lib/python3.10/site-packages (from httpx[http2]>=0.20.0->qdrant-client) (1.3.0)\n",
      "Requirement already satisfied: anyio in /Users/surbhisharma/anaconda3/lib/python3.10/site-packages (from httpx[http2]>=0.20.0->qdrant-client) (4.1.0)\n",
      "Collecting h2<5,>=3\n",
      "  Downloading h2-4.1.0-py3-none-any.whl (57 kB)\n",
      "\u001b[2K     \u001b[90m━━━━━━━━━━━━━━━━━━━━━━━━━━━━━━━━━━━━━━━━\u001b[0m \u001b[32m57.5/57.5 kB\u001b[0m \u001b[31m4.1 MB/s\u001b[0m eta \u001b[36m0:00:00\u001b[0m\n",
      "\u001b[?25hRequirement already satisfied: h11<0.15,>=0.13 in /Users/surbhisharma/anaconda3/lib/python3.10/site-packages (from httpcore==1.*->httpx[http2]>=0.20.0->qdrant-client) (0.14.0)\n",
      "Collecting annotated-types>=0.4.0\n",
      "  Downloading annotated_types-0.7.0-py3-none-any.whl (13 kB)\n",
      "Requirement already satisfied: typing-extensions>=4.6.1 in /Users/surbhisharma/anaconda3/lib/python3.10/site-packages (from pydantic>=1.10.8->qdrant-client) (4.12.2)\n",
      "Collecting pydantic-core==2.20.1\n",
      "  Downloading pydantic_core-2.20.1-cp310-cp310-macosx_10_12_x86_64.whl (1.8 MB)\n",
      "\u001b[2K     \u001b[90m━━━━━━━━━━━━━━━━━━━━━━━━━━━━━━━━━━━━━━━━\u001b[0m \u001b[32m1.8/1.8 MB\u001b[0m \u001b[31m9.1 MB/s\u001b[0m eta \u001b[36m0:00:00\u001b[0m00:01\u001b[0m00:01\u001b[0m\n",
      "\u001b[?25hCollecting hpack<5,>=4.0\n",
      "  Downloading hpack-4.0.0-py3-none-any.whl (32 kB)\n",
      "Collecting hyperframe<7,>=6.0\n",
      "  Downloading hyperframe-6.0.1-py3-none-any.whl (12 kB)\n",
      "Requirement already satisfied: exceptiongroup>=1.0.2 in /Users/surbhisharma/anaconda3/lib/python3.10/site-packages (from anyio->httpx[http2]>=0.20.0->qdrant-client) (1.2.0)\n",
      "Building wheels for collected packages: grpcio, grpcio-tools\n",
      "  Building wheel for grpcio (setup.py) ... \u001b[?25ldone\n",
      "\u001b[?25h  Created wheel for grpcio: filename=grpcio-1.64.1-cp310-cp310-macosx_10_9_x86_64.whl size=4623451 sha256=7bdfa6df2676f983fce722012324381cb8589923641e7f6c6441681db3c80c64\n",
      "  Stored in directory: /Users/surbhisharma/Library/Caches/pip/wheels/fe/3f/86/e40a155baf13651380bcfbe2cc6bf2f68432e98fb4b3f303b9\n",
      "  Building wheel for grpcio-tools (setup.py) ... \u001b[?25ldone\n",
      "\u001b[?25h  Created wheel for grpcio-tools: filename=grpcio_tools-1.64.1-cp310-cp310-macosx_10_9_x86_64.whl size=2313613 sha256=99766bc83e4c6e24ffef14b24487c91cac6eba90cf86f1dd3bf956ebcf36a273\n",
      "  Stored in directory: /Users/surbhisharma/Library/Caches/pip/wheels/7f/e7/ed/9f547177ea372004f289eab376e153bb17baee6a5f8a263d6f\n",
      "Successfully built grpcio grpcio-tools\n",
      "Installing collected packages: pydantic-core, protobuf, portalocker, hyperframe, httpcore, hpack, grpcio, annotated-types, pydantic, httpx, h2, grpcio-tools, qdrant-client\n",
      "  Attempting uninstall: protobuf\n",
      "    Found existing installation: protobuf 4.25.1\n",
      "    Uninstalling protobuf-4.25.1:\n",
      "      Successfully uninstalled protobuf-4.25.1\n",
      "  Attempting uninstall: pydantic\n",
      "    Found existing installation: pydantic 1.10.7\n",
      "    Uninstalling pydantic-1.10.7:\n",
      "      Successfully uninstalled pydantic-1.10.7\n",
      "\u001b[31mERROR: pip's dependency resolver does not currently take into account all the packages that are installed. This behaviour is the source of the following dependency conflicts.\n",
      "sagemaker 2.199.0 requires importlib-metadata<7.0,>=1.4.0, but you have importlib-metadata 8.0.0 which is incompatible.\n",
      "sagemaker 2.199.0 requires protobuf<5.0,>=3.12, but you have protobuf 5.27.2 which is incompatible.\n",
      "fastapi 0.95.2 requires pydantic!=1.7,!=1.7.1,!=1.7.2,!=1.7.3,!=1.8,!=1.8.1,<2.0.0,>=1.6.2, but you have pydantic 2.8.2 which is incompatible.\u001b[0m\u001b[31m\n",
      "\u001b[0mSuccessfully installed annotated-types-0.7.0 grpcio-1.64.1 grpcio-tools-1.64.1 h2-4.1.0 hpack-4.0.0 httpcore-1.0.5 httpx-0.27.0 hyperframe-6.0.1 portalocker-2.10.0 protobuf-5.27.2 pydantic-2.8.2 pydantic-core-2.20.1 qdrant-client-1.10.0\n",
      "Note: you may need to restart the kernel to use updated packages.\n"
     ]
    }
   ],
   "source": [
    "%pip install qdrant-client\n"
   ]
  },
  {
   "cell_type": "code",
   "execution_count": 17,
   "metadata": {},
   "outputs": [
    {
     "data": {
      "text/plain": [
       "<qdrant_client.qdrant_client.QdrantClient at 0x7fa680732b30>"
      ]
     },
     "execution_count": 17,
     "metadata": {},
     "output_type": "execute_result"
    }
   ],
   "source": [
    "# jump over to the Qdrant and create a new collection\n",
    "# Initalize the Qdrant client\n",
    "import os\n",
    "from qdrant_client import QdrantClient\n",
    "import os\n",
    "client = QdrantClient(url=os.getenv(\"QDRANT_URL\"), api_key=os.getenv(\"QDRANT_API_KEY\")) \n",
    "client"
   ]
  },
  {
   "cell_type": "code",
   "execution_count": 21,
   "metadata": {},
   "outputs": [
    {
     "name": "stderr",
     "output_type": "stream",
     "text": [
      "/var/folders/dz/m5rxz8212cv09c0mw35qdkkc0000gn/T/ipykernel_21152/1947577384.py:4: DeprecationWarning: `recreate_collection` method is deprecated and will be removed in the future. Use `collection_exists` to check collection existence and `create_collection` instead.\n",
      "  collection = client.recreate_collection(\n"
     ]
    },
    {
     "data": {
      "text/plain": [
       "True"
      ]
     },
     "execution_count": 21,
     "metadata": {},
     "output_type": "execute_result"
    }
   ],
   "source": [
    "# create a collection in Qdrant with embeddings and metadata\n",
    "from qdrant_client.models import VectorParams, Distance\n",
    "collection_name = \"cat_embeddings\"\n",
    "collection = client.recreate_collection(\n",
    "    collection_name=collection_name,\n",
    "    vectors_config={\n",
    "        \"size\": embeddings_length,\n",
    "        \"distance\": Distance.COSINE\n",
    "    }\n",
    ")\n",
    "collection\n"
   ]
  },
  {
   "cell_type": "code",
   "execution_count": 22,
   "metadata": {},
   "outputs": [],
   "source": [
    "# META DATA SHOULD BE UPLOADED AS AN ARRAY OF OBJECTS THAT IS DICTIONARY(array of dictionary)\n",
    "payloads_dicts = payloads.to_dict(orient=\"records\")"
   ]
  },
  {
   "cell_type": "code",
   "execution_count": 23,
   "metadata": {},
   "outputs": [],
   "source": [
    "# CREATE THE RECORD\n",
    "from qdrant_client import models\n",
    "records = [\n",
    "    models.Record(\n",
    "        id=idx,\n",
    "        vector=embeddings[idx],\n",
    "        payload=payloads_dicts[idx],\n",
    "    )\n",
    "   for idx, _ in enumerate(payloads_dicts)] \n"
   ]
  },
  {
   "cell_type": "code",
   "execution_count": 24,
   "metadata": {},
   "outputs": [
    {
     "name": "stderr",
     "output_type": "stream",
     "text": [
      "/var/folders/dz/m5rxz8212cv09c0mw35qdkkc0000gn/T/ipykernel_21152/2283494193.py:2: DeprecationWarning: `upload_records` is deprecated, use `upload_points` instead\n",
      "  client.upload_records(collection_name=collection_name, records=records)\n"
     ]
    }
   ],
   "source": [
    "# upload all records to Qdrant\n",
    "client.upload_records(collection_name=collection_name, records=records)"
   ]
  }
 ],
 "metadata": {
  "kernelspec": {
   "display_name": "base",
   "language": "python",
   "name": "python3"
  },
  "language_info": {
   "codemirror_mode": {
    "name": "ipython",
    "version": 3
   },
   "file_extension": ".py",
   "mimetype": "text/x-python",
   "name": "python",
   "nbconvert_exporter": "python",
   "pygments_lexer": "ipython3",
   "version": "3.10.12"
  }
 },
 "nbformat": 4,
 "nbformat_minor": 2
}
